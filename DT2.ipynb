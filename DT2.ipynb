{
 "cells": [
  {
   "cell_type": "code",
   "execution_count": 8,
   "metadata": {},
   "outputs": [
    {
     "name": "stdout",
     "output_type": "stream",
     "text": [
      "Критерий 1:\n",
      "B 1 = 12.195\n",
      "B 2 = 5.805\n",
      "B 3 = 5.7700000000000005\n",
      "Оптимальное решение:1\n",
      "\n",
      "Критерий 2:\n",
      "min= 1 max= 13\n",
      " i  p_1  p_2  p_3\n",
      " 2  0.7  1.0  1.0\n",
      " 3  0.7  1.0  1.0\n",
      " 4  0.7  0.7  1.0\n",
      " 5  0.7  0.7  0.7\n",
      " 6  0.7  0.3  0.7\n",
      " 7  0.3  0.3  0.3\n",
      " 8  0.3  0.3  0.3\n",
      " 9  0.3  0.3  0.3\n",
      "10  0.3  0.3  0.3\n",
      "11  0.3  0.3  0.0\n",
      "12  0.3  0.3  0.0\n",
      "Оптимальное решение:2 и 3 равноценны\n",
      "\n",
      "Критерий 3:\n",
      "sig 1 = 145.45335637500003\n",
      "sig 2 = 5.392818624999999\n",
      "sig 3 = 0.0\n",
      "Оптимальное решение:3\n",
      "\n",
      "Критерий 4:\n",
      "max P= 0.885\n",
      "agrmax f= 13\n",
      "Оптимальное решение:1\n",
      "\n",
      "Критерий 5:\n",
      "H 1 = nan\n",
      "H 2 = nan\n",
      "H 3 = nan\n",
      "Оптимальное решение:1\n",
      "\n",
      "Критерий 6:\n",
      "M 1 = 1.632\n",
      "M 2 = 14.153\n",
      "M 3 = 16.646\n",
      "Оптимальное решение:3\n"
     ]
    },
    {
     "name": "stderr",
     "output_type": "stream",
     "text": [
      "<ipython-input-8-fc2344e6dd74>:60: RuntimeWarning: divide by zero encountered in log\n",
      "  summ+=(P[i]*F[i][j])/B[i] * np.log((P[i]*F[i][j])/B[i])\n",
      "<ipython-input-8-fc2344e6dd74>:60: RuntimeWarning: invalid value encountered in double_scalars\n",
      "  summ+=(P[i]*F[i][j])/B[i] * np.log((P[i]*F[i][j])/B[i])\n"
     ]
    }
   ],
   "source": [
    "import numpy as np\n",
    "import matplotlib.pyplot as plt\n",
    "from random import random\n",
    "\n",
    "F=[[13,5,6],\n",
    "   [6,12,4],\n",
    "   [1,3,10]]\n",
    "P=[0.885,0.115,0]\n",
    "#1 критерий\n",
    "B=[0,0,0]\n",
    "print('Критерий 1:')\n",
    "for i in range (3):\n",
    "    B[i]=F[0][i]*P[0]+F[1][i]*P[1]+F[2][i]*P[2]\n",
    "    print('B',i+1,'=',B[i])\n",
    "print('Оптимальное решение:1')\n",
    "\n",
    "#2 критерий\n",
    "print('\\nКритерий 2:')\n",
    "lam1=np.amin(F)\n",
    "lam2=np.amax(F)\n",
    "Pm =[]\n",
    "print('min=',lam1,'max=',lam2)\n",
    "print(\"%2s%5s%5s%5s\" %('i','p_1','p_2','p_3'))\n",
    "for i in range(lam1+1, lam2):\n",
    "    k1=0\n",
    "    k2=0\n",
    "    k3=0\n",
    "    for j in range(3):\n",
    "        if F[j][0] >= i:\n",
    "            k1+=1\n",
    "        if F[j][1] >= i:\n",
    "            k2+=1\n",
    "        if F[j][2] >= i:\n",
    "            k3+=1    \n",
    "    print(\"%2s%5s%5s%5s\" %(i,\"%.1f\" %(k1/3),\"%.1f\" % (k2/3),\"%.1f\" % (k3/3)))\n",
    "print('Оптимальное решение:2 и 3 равноценны')\n",
    "\n",
    "#3 критерий\n",
    "print('\\nКритерий 3:')\n",
    "sig=[0,0,0]\n",
    "for j in range(3):\n",
    "    summ=0\n",
    "    for i in range(3):\n",
    "        summ+=(F[i][j] - B[j])**2\n",
    "    sig[j]= summ*P[j]\n",
    "    print('sig',j+1,'=',sig[j])\n",
    "print('Оптимальное решение:3')\n",
    "\n",
    "#4 критерий\n",
    "print('\\nКритерий 4:')\n",
    "print('max P=',np.max(P))\n",
    "print('agrmax f=',np.max(F[0]))\n",
    "print('Оптимальное решение:1')\n",
    "\n",
    "#5 критерий\n",
    "print('\\nКритерий 5:')\n",
    "summ=0\n",
    "for j in range (3):\n",
    "    for i in range (3):\n",
    "        summ+=(P[i]*F[i][j])/B[i] * np.log((P[i]*F[i][j])/B[i])\n",
    "    print('H',j+1,'=',\"%.3f\" %(-summ))\n",
    "print('Оптимальное решение:1')\n",
    "\n",
    "#6 критерий\n",
    "print('\\nКритерий 6:')\n",
    "lam=0.5\n",
    "for i in range (3):\n",
    "    M=(1-lam)*(B[i])**2-lam*sig[i]\n",
    "    print('M',i+1,'=',\"%.3f\" %(M))\n",
    "print('Оптимальное решение:3')"
   ]
  },
  {
   "cell_type": "code",
   "execution_count": 9,
   "metadata": {},
   "outputs": [
    {
     "data": {
      "text/plain": [
       "<matplotlib.legend.Legend at 0x18018096190>"
      ]
     },
     "execution_count": 9,
     "metadata": {},
     "output_type": "execute_result"
    },
    {
     "data": {
      "image/png": "[encoded data removed]",
      "text/plain": [
       "<Figure size 504x504 with 1 Axes>"
      ]
     },
     "metadata": {
      "needs_background": "light"
     },
     "output_type": "display_data"
    }
   ],
   "source": [
    "S1=[]\n",
    "S2=[]\n",
    "S3=[]\n",
    "S=[S1,S2,S3]\n",
    "n=10000\n",
    "\n",
    "for i in range (n):\n",
    "    Pm=[]\n",
    "    for j in range(3):\n",
    "        Pm.append(random())\n",
    "    Pm=np.array(Pm)\n",
    "    Pm=Pm/sum(Pm)\n",
    "    \n",
    "    multi = list(np.dot(F,Pm))\n",
    "    max_ = max(multi)\n",
    "    ind=multi.index(max_)\n",
    "    S[ind].append([Pm[0],Pm[1],Pm[2]])\n",
    "\n",
    "def Get(S):\n",
    "    n = len(S)\n",
    "    X=[]\n",
    "    Y=[]\n",
    "    Z=[]\n",
    "    for i in range(n):\n",
    "        X.append(S[i][0])\n",
    "        Y.append(S[i][1])\n",
    "        Z.append(S[i][2])\n",
    "    return X,Y,Z\n",
    "fig, ax = plt.subplots(figsize = (7, 7))\n",
    "\n",
    "X, Y, Z = Get(S[0])\n",
    "plt.scatter(X, Y, label = r'$\\phi1$' , color = 'red')\n",
    "\n",
    "X, Y, Z = Get(S[1])\n",
    "plt.scatter(X, Y, label = r'$\\phi2$', color = 'pink')\n",
    "\n",
    "X, Y, Z = Get(S[2])\n",
    "plt.scatter(X, Y, label = r'$\\phi3$', color = 'blue')\n",
    "plt.xlabel(\"P1\")\n",
    "plt.ylabel(\"P2\")\n",
    "plt.legend()\n"
   ]
  },
  {
   "cell_type": "code",
   "execution_count": 37,
   "metadata": {},
   "outputs": [
    {
     "data": {
      "text/plain": [
       "<matplotlib.legend.Legend at 0x180330a1190>"
      ]
     },
     "execution_count": 37,
     "metadata": {},
     "output_type": "execute_result"
    },
    {
     "data": {
      "image/png": "[encoded data removed]",
      "text/plain": [
       "<Figure size 576x360 with 1 Axes>"
      ]
     },
     "metadata": {
      "needs_background": "light"
     },
     "output_type": "display_data"
    }
   ],
   "source": [
    "#Байесовы множества для I_1 и I_2\n",
    "import numpy as np\n",
    "import matplotlib.pyplot as plt\n",
    "\n",
    "x = np.linspace(0,1,50)\n",
    "\n",
    "def f1(x):\n",
    "    return 0.882 * x + 0.006\n",
    "def f2(x):\n",
    "    return -1.33 * x + 0.776\n",
    "def f3(x):\n",
    "    return -0.158 * x + 0.368\n",
    "def f4(x):\n",
    "    return 1 - x\n",
    "def f5(x):\n",
    "    return 0\n",
    "\n",
    "\n",
    "y1 = np.vectorize(f1)\n",
    "y2 = np.vectorize(f2)\n",
    "y3 = np.vectorize(f3)\n",
    "\n",
    "y4 = np.vectorize(f4)\n",
    "y5 = np.vectorize(f5)\n",
    "\n",
    "d = np.linspace(0,1,500)\n",
    "x1,x2 = np.meshgrid(d,d)\n",
    "\n",
    "fig, ax = plt.subplots(figsize=(8,5))  \n",
    "ax.imshow( ((1>=x1+x2) & (x1<=-0.158*x2+0.368) & (x1<=-1.33 * x2 + 0.776)).astype(float) , \n",
    "                extent=(x1.min(),x1.max(),x2.min(),x2.max()),origin=\"lower\", cmap=\"Greys\", alpha = 0.0);\n",
    "ax.imshow( ((1>=x1+x2) & (x1>=0.882 * x2 + 0.006) & (x1>=-1.33 * x2 + 0.776)).astype(float) , \n",
    "                extent=(x1.min(),x1.max(),x2.min(),x2.max()),origin=\"lower\", cmap=\"Greys\", alpha = 0.0);\n",
    "ax.imshow( ((1>=x1+x2) & (x1>=-0.158*x2+0.368) & (x1<=0.882 * x2 + 0.006)).astype(float) , \n",
    "                extent=(x1.min(),x1.max(),x2.min(),x2.max()),origin=\"lower\", cmap=\"Greys\", alpha = 0.0);\n",
    "\n",
    "\n",
    "ax.grid(True)\n",
    "plt.xlim([0,1])\n",
    "plt.ylim([0,1])\n",
    "plt.text(0.6, 0.11, 'S3')\n",
    "plt.text(0.28, 0.5, 'S2')\n",
    "plt.text(0.12, 0.13, 'S1')\n",
    "ax.plot(y1(x),x,'m',label='Г_23')\n",
    "ax.plot(y2(x),x,'b', label ='Г_13')\n",
    "ax.plot(y3(x),x,'y', label ='Г_12')\n",
    "ax.plot(y4(x),x,'r--',label ='p1+p2')\n",
    "ax.set_xlabel('P1')  \n",
    "ax.set_ylabel('P2')  \n",
    "ax.legend() "
   ]
  },
  {
   "cell_type": "markdown",
   "metadata": {},
   "source": []
  }
 ],
 "metadata": {
  "kernelspec": {
   "display_name": "Python 3",
   "language": "python",
   "name": "python3"
  },
  "language_info": {
   "codemirror_mode": {
    "name": "ipython",
    "version": 3
   },
   "file_extension": ".py",
   "mimetype": "text/x-python",
   "name": "python",
   "nbconvert_exporter": "python",
   "pygments_lexer": "ipython3",
   "version": "3.8.3"
  }
 },
 "nbformat": 4,
 "nbformat_minor": 4
}
